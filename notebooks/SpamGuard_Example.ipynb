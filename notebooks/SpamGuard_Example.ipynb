{
 "cells": [
  {
   "cell_type": "markdown",
   "metadata": {},
   "source": [
    "Import Tensorflow and make sure the GPU is intialized (GPU not required)"
   ]
  },
  {
   "cell_type": "code",
   "execution_count": null,
   "metadata": {},
   "outputs": [],
   "source": [
    "import tensorflow as tf\n",
    "print(tf.config.list_physical_devices())"
   ]
  },
  {
   "cell_type": "markdown",
   "metadata": {},
   "source": [
    "Initialize a Model object\n",
    "\n",
    "Optional - Retvec is shipped with a pre-trained vectorizer. It is not required, but using it will require less training and likely produce better results.\n",
    "\n",
    "Arguments:\n",
    "    Verbose: Toggle whether output is shown. (bool)"
   ]
  },
  {
   "cell_type": "code",
   "execution_count": null,
   "metadata": {},
   "outputs": [],
   "source": [
    "from SpamGuard import SpamGuard\n",
    "\n",
    "model = SpamGuard(verbose=True, retvec_model_path = './path/to/pre-trained/retvec')"
   ]
  },
  {
   "cell_type": "markdown",
   "metadata": {},
   "source": [
    "If you have a pre-trained SpamGuard model already, you can load it. Otherwise, you can skip this.\n",
    "\n",
    "Arguments:\n",
    " - Model name (str)\n",
    " \n",
    " Loads from /Models/model_name.keras"
   ]
  },
  {
   "cell_type": "code",
   "execution_count": null,
   "metadata": {},
   "outputs": [],
   "source": [
    "model.load_model(\"../path/to/model\")"
   ]
  },
  {
   "cell_type": "markdown",
   "metadata": {},
   "source": [
    "Creating a CSVDataGenerator to use for training.\n",
    "You need one for training data, and one for validation data.\n",
    "Arguments:\n",
    " - CSV filepath (string)\n",
    " - Batch size (int)\n",
    " - Number of classes (int)\n",
    " - Shuffles the data each epoch, True by default. (bool)"
   ]
  },
  {
   "cell_type": "code",
   "execution_count": null,
   "metadata": {},
   "outputs": [],
   "source": [
    "from DataGenerator import CSVDataGenerator\n",
    "\n",
    "train_gen = CSVDataGenerator('./path_to_training_csv', 64, 2)\n",
    "val_gen = CSVDataGenerator('./path_to_validation_csv', 64, 2, shuffle=False)"
   ]
  },
  {
   "cell_type": "markdown",
   "metadata": {},
   "source": [
    "Training the Model\n",
    "\n",
    "Arguments:\n",
    " - CSVDataGenerator for Training data\n",
    " - CSVDataGenerator for Validation data\n",
    " - Number of epochs (int)\n",
    " - Whether or not to export a PDF Report for the performance. False by default. (bool)\n",
    " \n",
    "A high number of epochs is okay because the SpamGuard model is set up with EarlyStopping. If it doesn't see performance improvement over 30 epochs, it will revert to the weights of the highest performance and cease training."
   ]
  },
  {
   "cell_type": "code",
   "execution_count": null,
   "metadata": {},
   "outputs": [],
   "source": [
    "epochs = 400\n",
    "model.train(train_gen, val_gen, epochs, export_report=True)"
   ]
  },
  {
   "cell_type": "markdown",
   "metadata": {},
   "source": [
    "If you'd like to save a model\n",
    "\n",
    "Arguments:\n",
    " - Model name (str)\n",
    "\n",
    "The model is saved to ./Models/model_name.keras\n",
    "\n",
    "This is not strictly necessary because the SpamGuard class is set up with checkpoints, so the highest performing epoch for every model training iteration is saved."
   ]
  },
  {
   "cell_type": "code",
   "execution_count": null,
   "metadata": {},
   "outputs": [],
   "source": [
    "model.save('model_name')"
   ]
  },
  {
   "cell_type": "markdown",
   "metadata": {},
   "source": [
    "Making a prediction\n",
    "\n",
    "Arguments:\n",
    " - Text to evaluate (str)\n",
    " - Threshold for making a prediction. .5 by default (float)\n",
    " \n",
    "Returns:\n",
    " - (classification, probability) (tuple of string, float)"
   ]
  },
  {
   "cell_type": "code",
   "execution_count": null,
   "metadata": {},
   "outputs": [],
   "source": [
    "model.predict(some_text)"
   ]
  }
 ],
 "metadata": {
  "kernelspec": {
   "display_name": "Python 3",
   "language": "python",
   "name": "python3"
  },
  "language_info": {
   "codemirror_mode": {
    "name": "ipython",
    "version": 3
   },
   "file_extension": ".py",
   "mimetype": "text/x-python",
   "name": "python",
   "nbconvert_exporter": "python",
   "pygments_lexer": "ipython3",
   "version": "3.8.10"
  }
 },
 "nbformat": 4,
 "nbformat_minor": 2
}
